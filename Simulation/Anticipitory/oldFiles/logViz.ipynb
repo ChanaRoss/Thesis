{
 "cells": [
  {
   "cell_type": "code",
   "execution_count": 2,
   "metadata": {
    "collapsed": true
   },
   "outputs": [],
   "source": [
    "import numpy as np\n",
    "import pickle\n",
    "from matplotlib import pyplot as plt\n",
    "import pandas as pd\n",
    "import seaborn as sns\n",
    "from ipywidgets import interact\n",
    "sns.set()"
   ]
  },
  {
   "cell_type": "code",
   "execution_count": 3,
   "metadata": {
    "collapsed": true
   },
   "outputs": [],
   "source": [
    "# load logs\n",
    "lg = pickle.load(open('C:/Users/user98/Documents/Chana_Sim/log_Cost_WaitTime_CarMovement_3cars_100simLengh_100StochasticLength.p','rb'))"
   ]
  },
  {
   "cell_type": "code",
   "execution_count": 4,
   "metadata": {
    "collapsed": true
   },
   "outputs": [],
   "source": [
    "def filterEvents(eventDict, currentTime):\n",
    "    filterdEventDict = {}\n",
    "    for event in eventDict.values():\n",
    "        currentStatusLog = [s for s in event['statusLog'] if int(s[0]) == currentTime][0]\n",
    "        if currentStatusLog[1]:\n",
    "            filterdEventDict[event['id']] = event\n",
    "    return filterdEventDict"
   ]
  },
  {
   "cell_type": "code",
   "execution_count": 5,
   "metadata": {
    "collapsed": true
   },
   "outputs": [],
   "source": [
    "def plotCurrentTime(time):\n",
    "    cars = lg['cars']\n",
    "    events = lg['events']\n",
    "    plt.figure(1)\n",
    "    # plot car positions\n",
    "    for cid in cars:\n",
    "        pos = [p['position'] for p in cars[cid] if int(p['time']) == time][0]\n",
    "        plt.scatter(pos[0], pos[1], c='r', alpha=0.5, label='cars')\n",
    "        plt.text(pos[0], pos[1] + 0.1, 'cid: {0}'.format(cid))\n",
    "    # plot event positions\n",
    "    filteredEvents = filterEvents(lg['events'], time)\n",
    "    for fev in filteredEvents.values():\n",
    "        ePos = fev['position']\n",
    "        plt.scatter(ePos[0], ePos[1], c='b', alpha=0.5, label='events')\n",
    "        plt.text(ePos[0], ePos[1] + 0.1, 'eid: {0}'.format(fev['id']))\n",
    "    plt.xlim([0,10])\n",
    "    plt.ylim([0,10])\n",
    "    plt.show()"
   ]
  },
  {
   "cell_type": "code",
   "execution_count": 7,
   "metadata": {
    "scrolled": false
   },
   "outputs": [
    {
     "data": {
      "application/vnd.jupyter.widget-view+json": {
       "model_id": "721618051c8247de802a308b07955190",
       "version_major": 2,
       "version_minor": 0
      },
      "text/plain": [
       "A Jupyter Widget"
      ]
     },
     "metadata": {},
     "output_type": "display_data"
    },
    {
     "data": {
      "text/plain": [
       "<function __main__.plotCurrentTime>"
      ]
     },
     "execution_count": 7,
     "metadata": {},
     "output_type": "execute_result"
    }
   ],
   "source": [
    "interact(plotCurrentTime, time=(0,100))"
   ]
  },
  {
   "cell_type": "code",
   "execution_count": null,
   "metadata": {
    "collapsed": true
   },
   "outputs": [],
   "source": [
    "\n"
   ]
  },
  {
   "cell_type": "code",
   "execution_count": null,
   "metadata": {
    "collapsed": true
   },
   "outputs": [],
   "source": []
  },
  {
   "cell_type": "code",
   "execution_count": null,
   "metadata": {
    "collapsed": true
   },
   "outputs": [],
   "source": []
  },
  {
   "cell_type": "code",
   "execution_count": null,
   "metadata": {
    "collapsed": true
   },
   "outputs": [],
   "source": []
  }
 ],
 "metadata": {
  "kernelspec": {
   "display_name": "Python 3",
   "language": "python",
   "name": "python3"
  },
  "language_info": {
   "codemirror_mode": {
    "name": "ipython",
    "version": 3
   },
   "file_extension": ".py",
   "mimetype": "text/x-python",
   "name": "python",
   "nbconvert_exporter": "python",
   "pygments_lexer": "ipython3",
   "version": "3.6.3"
  }
 },
 "nbformat": 4,
 "nbformat_minor": 2
}
